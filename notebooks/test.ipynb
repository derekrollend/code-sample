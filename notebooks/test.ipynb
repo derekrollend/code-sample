{
 "cells": [
  {
   "cell_type": "code",
   "execution_count": null,
   "metadata": {},
   "outputs": [],
   "source": [
    "from pathlib import Path\n",
    "\n",
    "import geopandas as gpd\n",
    "import rasterio\n",
    "import matplotlib.pyplot as plt\n",
    "import numpy as np\n",
    "import rasterio\n",
    "\n",
    "from sentinel_downloader import SentinelDownloader, Season\n",
    "from sentinel_cities_downloader import SentinelCitiesDownloader\n",
    "from osm_road_data import OSMRoadData\n",
    "from osm_road_generator import OSMRoadGenerator"
   ]
  },
  {
   "cell_type": "code",
   "execution_count": null,
   "metadata": {},
   "outputs": [],
   "source": [
    "cities_geojson = Path(\"data/city_ids_and_bounds.geojson\")\n",
    "if not cities_geojson.exists():\n",
    "    raise FileNotFoundError(cities_geojson)\n",
    "\n",
    "cities_gdf = gpd.read_file(cities_geojson)"
   ]
  },
  {
   "cell_type": "code",
   "execution_count": null,
   "metadata": {},
   "outputs": [],
   "source": [
    "cities_gdf"
   ]
  },
  {
   "cell_type": "code",
   "execution_count": null,
   "metadata": {},
   "outputs": [],
   "source": [
    "s2_cities_downloader = SentinelCitiesDownloader(years=[2021], \n",
    "                                                seasons=[Season.Spring, Season.Summer, Season.Fall],\n",
    "                                                use_cache=False,\n",
    "                                                verbose=True,\n",
    "                                                force_new_download=True)\n",
    "s2_cities_downloader.download_all(parallel=False, debug=False)"
   ]
  },
  {
   "cell_type": "code",
   "execution_count": null,
   "metadata": {},
   "outputs": [],
   "source": [
    "osm_road_generator = OSMRoadGenerator()\n",
    "osm_road_generator.generate_roads_parallel()"
   ]
  },
  {
   "cell_type": "code",
   "execution_count": null,
   "metadata": {},
   "outputs": [],
   "source": [
    "plot_city_id = 10\n",
    "city_name = cities_gdf[cities_gdf[\"asset_identifier\"] == plot_city_id][\"asset_name\"].iloc[0]"
   ]
  },
  {
   "cell_type": "code",
   "execution_count": null,
   "metadata": {},
   "outputs": [],
   "source": [
    "with rasterio.open(f\"data/sentinel2_images/{plot_city_id}/2021/summer.tif\") as ds:\n",
    "    visual_img = np.moveaxis(ds.read(), 0, -1)\n",
    "with rasterio.open(f\"data/osm_images/{plot_city_id}.tif\") as ds:\n",
    "    road_img = np.moveaxis(ds.read(), 0, -1)"
   ]
  },
  {
   "cell_type": "code",
   "execution_count": null,
   "metadata": {},
   "outputs": [],
   "source": [
    "fig, axes = plt.subplots(1, 2, figsize=(12, 6))\n",
    "\n",
    "axes[0].imshow(visual_img)\n",
    "axes[0].get_yaxis().set_visible(False)\n",
    "axes[0].get_xaxis().set_visible(False)\n",
    "axes[1].imshow(road_img)\n",
    "axes[1].get_yaxis().set_visible(False)\n",
    "axes[1].get_xaxis().set_visible(False)\n",
    "plt.suptitle(city_name)\n"
   ]
  },
  {
   "cell_type": "code",
   "execution_count": null,
   "metadata": {},
   "outputs": [],
   "source": []
  },
  {
   "cell_type": "code",
   "execution_count": null,
   "metadata": {},
   "outputs": [],
   "source": []
  }
 ],
 "metadata": {
  "kernelspec": {
   "display_name": "Python (code-sample)",
   "language": "python",
   "name": "code-sample"
  },
  "language_info": {
   "codemirror_mode": {
    "name": "ipython",
    "version": 3
   },
   "file_extension": ".py",
   "mimetype": "text/x-python",
   "name": "python",
   "nbconvert_exporter": "python",
   "pygments_lexer": "ipython3",
   "version": "3.9.13"
  },
  "orig_nbformat": 4,
  "vscode": {
   "interpreter": {
    "hash": "7eef141d3d3b1e835b16c7973317a8c6f76be66cfb700404dd02b562af71daf6"
   }
  }
 },
 "nbformat": 4,
 "nbformat_minor": 2
}
