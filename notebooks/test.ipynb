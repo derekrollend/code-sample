{
 "cells": [
  {
   "cell_type": "code",
   "execution_count": 2,
   "metadata": {},
   "outputs": [],
   "source": [
    "from pathlib import Path\n",
    "\n",
    "import geopandas as gpd\n",
    "import rasterio\n",
    "import matplotlib.pyplot as plt\n",
    "import numpy as np\n",
    "import rasterio\n",
    "\n",
    "from sample.sentinel_downloader import SentinelDownloader, Season\n",
    "from sample.sentinel_cities_downloader import SentinelCitiesDownloader\n",
    "from sample.osm_road_data import OSMRoadData\n",
    "from sample.osm_road_generator import OSMRoadGenerator"
   ]
  },
  {
   "cell_type": "code",
   "execution_count": 3,
   "metadata": {},
   "outputs": [],
   "source": [
    "cities_geojson = Path(\"../data/us14_city_ids_and_bounds.geojson\")\n",
    "if not cities_geojson.exists():\n",
    "    raise FileNotFoundError(cities_geojson)\n",
    "\n",
    "cities_gdf = gpd.read_file(cities_geojson)"
   ]
  },
  {
   "cell_type": "code",
   "execution_count": 4,
   "metadata": {},
   "outputs": [],
   "source": [
    "gdf_proj = cities_gdf.to_crs(3857)\n",
    "gdf_proj[\"area\"] = gdf_proj.area"
   ]
  },
  {
   "cell_type": "code",
   "execution_count": 5,
   "metadata": {},
   "outputs": [],
   "source": [
    "sorted_by_area = gdf_proj.sort_values(by=\"area\")\n",
    "sorted_by_area[:3].to_crs(4326).to_file(\"../data/small_city_ids_and_bounds.geojson\")"
   ]
  },
  {
   "cell_type": "code",
   "execution_count": 13,
   "metadata": {},
   "outputs": [
    {
     "data": {
      "text/html": [
       "<div>\n",
       "<style scoped>\n",
       "    .dataframe tbody tr th:only-of-type {\n",
       "        vertical-align: middle;\n",
       "    }\n",
       "\n",
       "    .dataframe tbody tr th {\n",
       "        vertical-align: top;\n",
       "    }\n",
       "\n",
       "    .dataframe thead th {\n",
       "        text-align: right;\n",
       "    }\n",
       "</style>\n",
       "<table border=\"1\" class=\"dataframe\">\n",
       "  <thead>\n",
       "    <tr style=\"text-align: right;\">\n",
       "      <th></th>\n",
       "      <th>asset_name</th>\n",
       "      <th>asset_identifier</th>\n",
       "      <th>iso3_country</th>\n",
       "      <th>geometry</th>\n",
       "      <th>area</th>\n",
       "    </tr>\n",
       "  </thead>\n",
       "  <tbody>\n",
       "    <tr>\n",
       "      <th>13</th>\n",
       "      <td>Hartford</td>\n",
       "      <td>13</td>\n",
       "      <td>USA</td>\n",
       "      <td>POLYGON ((-8094890.434 5132052.793, -8094784.7...</td>\n",
       "      <td>8.372409e+07</td>\n",
       "    </tr>\n",
       "    <tr>\n",
       "      <th>10</th>\n",
       "      <td>Pittsburgh</td>\n",
       "      <td>10</td>\n",
       "      <td>USA</td>\n",
       "      <td>POLYGON ((-8910543.705 4924075.262, -8910866.1...</td>\n",
       "      <td>2.641764e+08</td>\n",
       "    </tr>\n",
       "    <tr>\n",
       "      <th>12</th>\n",
       "      <td>Orlando</td>\n",
       "      <td>12</td>\n",
       "      <td>USA</td>\n",
       "      <td>MULTIPOLYGON (((-9054581.887 3307602.554, -905...</td>\n",
       "      <td>3.769789e+08</td>\n",
       "    </tr>\n",
       "  </tbody>\n",
       "</table>\n",
       "</div>"
      ],
      "text/plain": [
       "    asset_name  asset_identifier iso3_country  \\\n",
       "13    Hartford                13          USA   \n",
       "10  Pittsburgh                10          USA   \n",
       "12     Orlando                12          USA   \n",
       "\n",
       "                                             geometry          area  \n",
       "13  POLYGON ((-8094890.434 5132052.793, -8094784.7...  8.372409e+07  \n",
       "10  POLYGON ((-8910543.705 4924075.262, -8910866.1...  2.641764e+08  \n",
       "12  MULTIPOLYGON (((-9054581.887 3307602.554, -905...  3.769789e+08  "
      ]
     },
     "execution_count": 13,
     "metadata": {},
     "output_type": "execute_result"
    }
   ],
   "source": [
    "sorted_by_area[:3]"
   ]
  },
  {
   "cell_type": "code",
   "execution_count": 8,
   "metadata": {},
   "outputs": [],
   "source": [
    "subset = sorted_by_area[sorted_by_area[\"asset_name\"].isin([\"Pittsburgh\", \"Cleveland\", \"Denver\"])]"
   ]
  },
  {
   "cell_type": "code",
   "execution_count": 9,
   "metadata": {},
   "outputs": [],
   "source": [
    "subset.to_file(\"../data/small_city_ids_and_bounds.geojson\")"
   ]
  },
  {
   "cell_type": "code",
   "execution_count": null,
   "metadata": {},
   "outputs": [],
   "source": [
    "s2_cities_downloader = SentinelCitiesDownloader(years=[2021], \n",
    "                                                seasons=[Season.Spring, Season.Summer, Season.Fall],)\n",
    "s2_cities_downloader.download_all(parallel=False, debug=False)"
   ]
  },
  {
   "cell_type": "code",
   "execution_count": null,
   "metadata": {},
   "outputs": [],
   "source": [
    "osm_road_generator = OSMRoadGenerator()\n",
    "osm_road_generator.generate_roads_parallel()"
   ]
  },
  {
   "cell_type": "code",
   "execution_count": null,
   "metadata": {},
   "outputs": [],
   "source": [
    "plot_city_id = 10\n",
    "city_name = cities_gdf[cities_gdf[\"asset_identifier\"] == plot_city_id][\"asset_name\"].iloc[0]"
   ]
  },
  {
   "cell_type": "code",
   "execution_count": null,
   "metadata": {},
   "outputs": [],
   "source": [
    "with rasterio.open(f\"data/sentinel2_images/{plot_city_id}/2021/summer.tif\") as ds:\n",
    "    visual_img = np.moveaxis(ds.read(), 0, -1)\n",
    "with rasterio.open(f\"data/osm_images/{plot_city_id}.tif\") as ds:\n",
    "    road_img = np.moveaxis(ds.read(), 0, -1)"
   ]
  },
  {
   "cell_type": "code",
   "execution_count": null,
   "metadata": {},
   "outputs": [],
   "source": [
    "fig, axes = plt.subplots(1, 2, figsize=(12, 6))\n",
    "\n",
    "axes[0].imshow(visual_img)\n",
    "axes[0].get_yaxis().set_visible(False)\n",
    "axes[0].get_xaxis().set_visible(False)\n",
    "axes[1].imshow(road_img)\n",
    "axes[1].get_yaxis().set_visible(False)\n",
    "axes[1].get_xaxis().set_visible(False)\n",
    "plt.suptitle(city_name)\n"
   ]
  },
  {
   "cell_type": "code",
   "execution_count": null,
   "metadata": {},
   "outputs": [],
   "source": []
  },
  {
   "cell_type": "code",
   "execution_count": null,
   "metadata": {},
   "outputs": [],
   "source": []
  }
 ],
 "metadata": {
  "kernelspec": {
   "display_name": "Python 3.9.13 64-bit ('code-sample')",
   "language": "python",
   "name": "python3"
  },
  "language_info": {
   "codemirror_mode": {
    "name": "ipython",
    "version": 3
   },
   "file_extension": ".py",
   "mimetype": "text/x-python",
   "name": "python",
   "nbconvert_exporter": "python",
   "pygments_lexer": "ipython3",
   "version": "3.9.13"
  },
  "orig_nbformat": 4,
  "vscode": {
   "interpreter": {
    "hash": "aa51afdb1f186d868de2d23df42dd6c77017f65e1c1b0ecf44caa307489193a6"
   }
  }
 },
 "nbformat": 4,
 "nbformat_minor": 2
}
